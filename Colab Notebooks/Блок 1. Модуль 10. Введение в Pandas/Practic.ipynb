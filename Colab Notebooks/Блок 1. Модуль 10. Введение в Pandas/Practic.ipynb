{
 "cells": [
  {
   "cell_type": "markdown",
   "metadata": {},
   "source": [
    "## Практика к Юнит 2. Pandas.Series"
   ]
  },
  {
   "cell_type": "markdown",
   "metadata": {},
   "source": [
    "### Задание 2.1\n",
    "1/1 point (graded)<br>\n",
    "Какой параметр используется для того, чтобы задать ассоциативные метки в Series?<br>\n",
    "columns<br>\n",
    "index *верно*<br>\n",
    "dtype<br>\n",
    "placemarks<br>\n"
   ]
  },
  {
   "cell_type": "markdown",
   "metadata": {},
   "source": [
    "### Задание 2.2<br>\n",
    "1/1 point (graded)<br>\n",
    "Какие из нижеперечисленных вариантов кода создают Series, представленный на картинке ниже?<br>\n",
    "A<br>\n",
    "pd.Series([\"Апельсин\", \"Киви\", \"Мандарин\", \"Яблоко\"], [\"а\", \"к\", \"м\", \"я\"])<br>\n",
    "B<br>\n",
    "pd.Series(data=[\"Апельсин\", \"Киви\", \"Мандарин\", \"Яблоко\"], index = [\"а\", \"к\", \"м\", \"я\"], name = \"fruits\")<br>\n",
    "C<br>\n",
    "pd.Series({'а': \"Апельсин\", 'к': 'Киви', 'м': 'Мандарин', 'я': 'Яблоко'}, name='fruits')<br>\n",
    "D<br>\n",
    "pd.Series([\"Апельсин\", \"Киви\", \"Мандарин\", \"Яблоко\"], name='fruits')<br>\n",
    "**Ответ\n",
    "Верно:\n",
    "B Верно.\n",
    "C Верно.**\n"
   ]
  },
  {
   "cell_type": "markdown",
   "metadata": {},
   "source": [
    "### Задание 2.3<br>\n",
    "1/1 point (graded)\n",
    "Задан Series <br>\n",
    "        <code>my_series = pd.Series(data=[5, 6, 7, 8, 9, 10], index=['a', 'b', 'c', 'd', 'e', 'f']).</code><br>\n",
    "Какими из нижеперечисленных способов можно достать из него числа 6, 7 и 9?<br>\n",
    "Отметьте все подходящие варианты ответов.<br>\n",
    "A<br>\n",
    "my_series[['b', 'c', 'e']]<br>\n",
    "B<br>\n",
    "my_series.iloc[1:5]<br>\n",
    "C<br>\n",
    "my_series.loc[['a', 'b', 'd']]<br>\n",
    "D<br>\n",
    "my_series.iloc[[1, 2, 4]]<br>\n",
    "**Ответ\n",
    "Верно:\n",
    "A Элементы 6, 7 и 9 располагаются по меткам (индексам) 'b', 'c' и 'e'. Их можно получить с помощью loc, передав в него список с этими метками.\n",
    "D Элементы 6, 7 и 9 располагаются по меткам (индексам) 'b', 'c' и 'e'. Их можно получить с помощью iloc, передав в него список с соответствующими порядковыми номерами.**\n"
   ]
  },
  {
   "cell_type": "markdown",
   "metadata": {},
   "source": [
    "### Задание 2.4<br>\n",
    "В аптеку поступают партии лекарств. Их названия находятся в списке *names*, количество единиц товара находится в списке *counts*.<br>\n",
    "Например:<br>\n",
    "<code>names=['chlorhexidine', 'cyntomycin', 'afobazol']<br>\n",
    "counts=[15, 18, 7]<br></code>\n",
    "Напишите функцию *create_medications(names, counts)*, создающую Series *medications*, индексами которого являются названия лекарств *names*, а значениями — их количество в партии *counts*.<br>\n",
    "Также напишите функцию *get_percent(medications, name)*, которая возвращает долю товара с именем *name* от общего количества товаров в партии в процентах.<br>"
   ]
  },
  {
   "cell_type": "code",
   "execution_count": 1,
   "metadata": {},
   "outputs": [
    {
     "name": "stdout",
     "output_type": "stream",
     "text": [
      "37.5\n"
     ]
    }
   ],
   "source": [
    "import pandas as pd\n",
    "\n",
    "def create_medications(names, counts):\n",
    "    \"\"\"\n",
    "    Напишите функцию create_mediactions(names, counts), которая  создает Series medications,\n",
    "    индексами которой являются названия лекарств names, а значениями - их количество в поставке counts\n",
    "    \"\"\"\n",
    "    res = pd.Series(counts, names)\n",
    "    return res\n",
    "\n",
    "def get_percent(medications, name):\n",
    "    \"\"\"\n",
    "    А также напишите функцию get_percent(medications, name), которая возвращает долю количества товара\n",
    "    с именем name от общего количества товаров в поставке в процентах.\n",
    "    \"\"\"\n",
    "    sum_per = (sum(medications.iloc[:]))\n",
    "    med_per = (medications.loc[name])/sum_per*100\n",
    "    return med_per\n",
    "    \n",
    "if __name__ == '__main__':\n",
    "    names=['chlorhexidine', 'cyntomycin', 'afobazol']\n",
    "    counts=[15, 18, 7]\n",
    "    medications = create_medications(names, counts)\n",
    "    print(get_percent(medications, \"chlorhexidine\")) #37.5"
   ]
  },
  {
   "cell_type": "markdown",
   "metadata": {},
   "source": [
    "## Практика к Юнит 3. Pandas.DataFrame"
   ]
  },
  {
   "cell_type": "markdown",
   "metadata": {},
   "source": [
    "### Задание 3.1<br>\n",
    "1/1 point (graded)<br>\n",
    "Что собой представляет структура данных DataFrame?<br>\n",
    "- Ассоциативный ряд<br>\n",
    "- Таблицу со столбцами и строками **верно**<br>\n",
    "- Древовидную структуру, данные в которой хранятся в узлах<br>\n",
    "- Граф с узлами и рёбрами <br>"
   ]
  },
  {
   "cell_type": "markdown",
   "metadata": {},
   "source": [
    "### Задание 3.2<br>\n",
    "1/1 point (graded)<br>\n",
    "Какой параметр pd.DataFrame() позволяет назначать имена столбцам?<br>\n",
    "- columns **верно**<br>\n",
    "- names<br>\n",
    "- index<br>\n",
    "- dtype <br>\n",
    "**Ответ**\n",
    "Верно: За назначение имён столбцам отвечает параметр columns, имена в котором указываются в списке."
   ]
  },
  {
   "cell_type": "markdown",
   "metadata": {},
   "source": [
    "### Задание 3.3<br>\n",
    "1/1 point (graded)<br>\n",
    "Какой параметр *pd.DataFrame()* позволяет назначать ассоциативные метки?<br>\n",
    "- columns<br>\n",
    "- placemarks<br>\n",
    "- index **верно**<br>\n",
    "- names<br>\n",
    "**Ответ**<br>\n",
    "Верно: За назначение ассоциативных меток (индексов) отвечает параметр *index*, в котором индексы указываются в списке.\n"
   ]
  },
  {
   "cell_type": "markdown",
   "metadata": {},
   "source": [
    "### Задание 3.4<br>\n",
    "1/1 point (graded)<br>\n",
    "Какие из нижеприведённых вариантов кода позволят создать следующую таблицу?<br>\n",
    "\n",
    "\t\t\tA \tB\n",
    "\t\t0 \t0 \t1\n",
    "\t\t1 \t1 \t0\n",
    "\n",
    "Отметьте все подходящие варианты ответов.<br>\n",
    "**A** \t\tpd.DataFrame([[0,1], [1, 0]], columns=['А', 'B']) **Верно**<br>\n",
    "**B** \t\tpd.DataFrame([[1, 0], [0, 1]], columns=['А', 'B'])<br>\n",
    "**C** \t\tpd.DataFrame({'А': [0, 1], 'B': [1, 0]})**Верно**<br>\n",
    "**D** \t\tpd.DataFrame({'А': [1, 0], 'B': [0, 1]})<br>\n",
    "\n",
    "**Ответ**<br>\n",
    "Верно:<br>\n",
    "**A** При создании DataFrame из вложенных списков его внутренние списки являются строками таблицы.<br>\n",
    "**C** При создании DataFrame из словаря значения словаря — это значения в столбцах будущей таблицы.<br>\n"
   ]
  },
  {
   "cell_type": "markdown",
   "metadata": {},
   "source": [
    "### Задание 3.5<br>\n",
    "Вы работаете аналитиком в компании *ScienceYou*. Ваша задача — проанализировать **чистую прибыль**.<br>\n",
    "Доходы *(income)*, расходы *(expenses)* и годы *(years)*, соответствующие им, предоставлены вам в виде списков.<br>\n",
    "Например:<br>\n",
    "- income = [478, 512, 196]<br>\n",
    "- expenses = [156, 130, 270]<br>\n",
    "- years = [2018, 2019, 2020]<br>\n",
    "\n",
    "Создайте функцию *create_companyDF(income, expenses, years)*, которая  возвращает *DataFrame*, составленный из входных данных со столбцами *Income* и *Expenses* и индексами, соответствующими годам рассматриваемого периода. Пример такого *DataFrame* представлен ниже.<br>\n",
    "\n",
    "                   Income  \t   Expenses\n",
    "        2018    \t478     \t156\n",
    "        2019     \t512     \t130\n",
    "        2020     \t196     \t270\n",
    "\n",
    "Также напишите функцию *get_profit(df, year)*, которая возвращает разницу между доходом и расходом, записанными в таблице *df*, за год *year*. Учтите, что если информация за запрашиваемый год не указана в вашей таблице, вам необходимо вернуть *None*."
   ]
  },
  {
   "cell_type": "code",
   "execution_count": 2,
   "metadata": {},
   "outputs": [
    {
     "name": "stdout",
     "output_type": "stream",
     "text": [
      "-74\n"
     ]
    }
   ],
   "source": [
    "import pandas as pd\n",
    "\n",
    "def create_companyDF(income, expenses, years):\n",
    "    \"\"\"\n",
    "    Создайте функцию create_companyDF(income, expenses, years), которая  возвращает DataFrame, \n",
    "    составленный из входных данных со столбцами “Income” и “Expenses” и индексами, соответствующим годам рассматриваемого периода.\n",
    "    \"\"\"\n",
    "    df = pd.DataFrame({'Income': income, 'Expenses': expenses}, index = years)\n",
    "    return df\n",
    "\n",
    "def get_profit(df, year):\n",
    "    \n",
    "    \"\"\"\n",
    "    А также напишите функцию get_profit(df, year), которая возвращает разницу между доходом и расходом, записанных в таблице df, за год year.\n",
    "    Учтите, что если информация за запрашиваемый год не указана в вашей таблице вам необходимо вернуть None. \n",
    "    \"\"\"\n",
    "    if year in df.index:\n",
    "        profit = df.loc[year, 'Income'] - df.loc[year, 'Expenses']\n",
    "    else:\n",
    "        profit = None\n",
    "    return profit\n",
    "\n",
    "if __name__ == '__main__':\n",
    "    expenses = [156, 130, 270]\n",
    "    income = [478, 512, 196]\n",
    "    years = [2018, 2019, 2020]\n",
    "    \n",
    "    scienceyou = create_companyDF(income, expenses, years)\n",
    "    print(get_profit(scienceyou, 2020)) #-74"
   ]
  },
  {
   "cell_type": "markdown",
   "metadata": {},
   "source": [
    "## Практика к Юнит 4. Работа с различными источниками данных в Pandas"
   ]
  },
  {
   "cell_type": "markdown",
   "metadata": {},
   "source": [
    "### Задание 4.1<br>\n",
    "1/1 point (graded)<br>\n",
    "Как прочитать в *DataFrame* *csv*-файл, в качестве разделителя у которого значится *'!'*?<br>\n",
    "- `df = pd.read_csv('path/file.csv', separator = '!')`<br>\n",
    "- `df = pd.read_csv('path/file.csv', sep= '!')`**верно**<br>\n",
    "- `df = pd.read_csv('path/file.csv', names= '!')`<br>\n",
    "- `df = pd.read_csv('path/file.csv', prefix= '!')`<br>"
   ]
  },
  {
   "cell_type": "markdown",
   "metadata": {},
   "source": [
    "### Задание 4.2<br>\n",
    "1/1 point (graded)<br>\n",
    "Как прочитать в *DataFrame* *csv*-файл, в качестве разделителя у которого значится *';'*, а первые 20 строк занимает служебная информация?<br>\n",
    "- `df = pd.read_csv('path/file.csv', sep = ';', skiprows = 20)` **верно**<br>\n",
    "- `df = pd.read_csv('path/file.csv', separator = ';', skipinitialspace = 20)`<br>\n",
    "- `df = pd.read_csv('path/file.csv', separator = ';')`<br>\n",
    "- `df = pd.read_csv('path/file.csv', skiprows = 20)`<br>"
   ]
  },
  {
   "cell_type": "markdown",
   "metadata": {},
   "source": [
    "### Задание 4.3<br>\n",
    "1/1 point (graded)<br>\n",
    "Как записать *DataFrame* в *csv*-файл, в котором разделителем служит *';'*, а целая часть числа отделяется от дробной знаком *','*?<br>\n",
    "- `df.to_csv('path/file.csv', sep = ';', delimeter =',')`<br>\n",
    "- `df.to_csv('path/file.csv', sep = ',', decimal=';')`<br>\n",
    "- `df.to_csv('path/file.csv', sep = ';', decimal=',')`**верно**<br>\n",
    "- `df.to_csv('path/file.csv', sep = ';', index=False)`<br>"
   ]
  },
  {
   "cell_type": "markdown",
   "metadata": {},
   "source": [
    "### Задание 4.4<br>\n",
    "1/1 point (graded)<br>\n",
    "Какая функция позволяет прочитать файл `'income.xslx'` в *DataFrame*?<br>\n",
    "- `pd.read_xml()`<br>\n",
    "- `pd.read_excel()`**верно**<br>\n",
    "- `pd.read_sql()`<br>\n",
    "- `pd.read_json()`<br>"
   ]
  },
  {
   "cell_type": "markdown",
   "metadata": {},
   "source": [
    "## Практика к Юнит 5. Знакомимся с данными: недвижимость"
   ]
  },
  {
   "cell_type": "code",
   "execution_count": 3,
   "metadata": {},
   "outputs": [],
   "source": [
    "import pandas as pd\n",
    "melb_data = pd.read_csv('data/melb_data.csv', sep=',')\n",
    "#display(melb_data.columns)"
   ]
  },
  {
   "cell_type": "markdown",
   "metadata": {},
   "source": [
    "### Задание 5.1<br>\n",
    "1/1 point (graded)<br>\n",
    "Какова цена объекта недвижимости под индексом 15?<br>\n",
    "- 1300000<br>\n",
    "- 1310000 **верно**<br>\n",
    "- 1902310<br>\n",
    "- 1249491<br>\n"
   ]
  },
  {
   "cell_type": "code",
   "execution_count": 4,
   "metadata": {},
   "outputs": [
    {
     "data": {
      "text/plain": [
       "1310000.0"
      ]
     },
     "execution_count": 4,
     "metadata": {},
     "output_type": "execute_result"
    }
   ],
   "source": [
    "# Задание 5.1\n",
    "melb_data.loc[15, 'Price']"
   ]
  },
  {
   "cell_type": "markdown",
   "metadata": {},
   "source": [
    "### Задание 5.2<br>\n",
    "1/1 point (graded)<br>\n",
    "Когда был продан объект под индексом 90?<br>\n",
    "- 11 августа 2015 года<br>\n",
    "- 28 сентября 2018 года<br>\n",
    "- 10 сентября 2016 года **верно**<br>\n",
    "- 19 января 2013 года<br>"
   ]
  },
  {
   "cell_type": "code",
   "execution_count": 5,
   "metadata": {},
   "outputs": [
    {
     "data": {
      "text/plain": [
       "'10/09/2016'"
      ]
     },
     "execution_count": 5,
     "metadata": {},
     "output_type": "execute_result"
    }
   ],
   "source": [
    "# Задание 5.2\n",
    "melb_data.loc[90, 'Date']"
   ]
  },
  {
   "cell_type": "code",
   "execution_count": 6,
   "metadata": {},
   "outputs": [
    {
     "data": {
      "text/plain": [
       "3.0"
      ]
     },
     "execution_count": 6,
     "metadata": {},
     "output_type": "execute_result"
    }
   ],
   "source": [
    "# Задание 5.3\n",
    "# Во сколько раз площадь участка, на котором находится \n",
    "# здание с индексом 3521, больше площади участка, \n",
    "# на котором находится здание с индексом 1690? \n",
    "# Ответ округлите до целого числа.\n",
    "round(melb_data.loc[3521, 'Landsize']/melb_data.loc[1690, 'Landsize'], 0)"
   ]
  },
  {
   "cell_type": "markdown",
   "metadata": {},
   "source": [
    "## Практика к Юнит 6. Исследование структуры DataFrame\n",
    "\n",
    "###  Задание 6.1<br>\n",
    "1/1 point (graded)<br>\n",
    "Дана таблица `data = pd.DataFrame([[0,1], [1, 0], [1, 1]], columns=['А', 'B'])`. Что выведет код `print(data.shape)`?<br>\n",
    "- (2, 3)<br>\n",
    "- (3, 3)<br>\n",
    "- (3, 2) **верно**<br>\n",
    "- (2, 2)<br>\n",
    "\n",
    "### Задание 6.2<br>\n",
    "1/1 point (graded)<br>\n",
    "Какой из нижеперечисленных вариантов кода позволяет получить последние 15 строк *DataFrame* `melb_data`?<br>\n",
    "- `melb_data.head()`<br>\n",
    "- `melb_data.tail(15)` **верно**<br>\n",
    "- `melb_data.head(15`)<br>\n",
    "- m`elb_data.tail()`<br>\n",
    "\n",
    "### Задание 6.3<br>\n",
    "1/1 point (graded)<br>\n",
    "Какой тип данных имеет столбец *Coordinates*?<br>\n",
    "- `int64`<br>\n",
    "- `float64`<br>\n",
    "- `tuple`<br>\n",
    "- `object` **верно**<br>\n",
    "\n",
    "### Задание 6.4 <br>\n",
    "1/1 point (graded)<br>\n",
    "Какое утверждение о типе данных `object` верно?<br>\n",
    "- Это тип данных, которым в *Pandas* кодируются числа<br>\n",
    "- Это тип данных, которым в *Pandas* кодируются только текстовые данные<br>\n",
    "- Это тип данных, которым в *Pandas* кодируются текстовые или другие нечисловые значения (кортежи, списки и т. д.) верно<br>\n",
    "- Это тип данных, которым в *Pandas* кодируются изображения<br>\n",
    "\n",
    "### Задание 6.5<br>\n",
    "1/1 point (graded)<br>\n",
    "Сколько пропущенных значений в столбце CouncilArea?<br>\n",
    "`1369` **верно**<br>\n",
    "\n"
   ]
  },
  {
   "cell_type": "code",
   "execution_count": 7,
   "metadata": {},
   "outputs": [
    {
     "data": {
      "text/plain": [
       "1369"
      ]
     },
     "execution_count": 7,
     "metadata": {},
     "output_type": "execute_result"
    }
   ],
   "source": [
    "# Решение для 6.5\n",
    "melb_data.shape[0]-melb_data['CouncilArea'].count()"
   ]
  },
  {
   "cell_type": "code",
   "execution_count": 8,
   "metadata": {},
   "outputs": [
    {
     "name": "stdout",
     "output_type": "stream",
     "text": [
      "<class 'pandas.core.frame.DataFrame'>\n",
      "RangeIndex: 13580 entries, 0 to 13579\n",
      "Data columns (total 23 columns):\n",
      " #   Column         Non-Null Count  Dtype  \n",
      "---  ------         --------------  -----  \n",
      " 0   index          13580 non-null  int64  \n",
      " 1   Suburb         13580 non-null  object \n",
      " 2   Address        13580 non-null  object \n",
      " 3   Rooms          13580 non-null  int64  \n",
      " 4   Type           13580 non-null  object \n",
      " 5   Price          13580 non-null  float64\n",
      " 6   Method         13580 non-null  object \n",
      " 7   SellerG        13580 non-null  object \n",
      " 8   Date           13580 non-null  object \n",
      " 9   Distance       13580 non-null  float64\n",
      " 10  Postcode       13580 non-null  int64  \n",
      " 11  Bedroom        13580 non-null  int64  \n",
      " 12  Bathroom       13580 non-null  int64  \n",
      " 13  Car            13580 non-null  int64  \n",
      " 14  Landsize       13580 non-null  float64\n",
      " 15  BuildingArea   13580 non-null  float64\n",
      " 16  YearBuilt      13580 non-null  int64  \n",
      " 17  CouncilArea    12211 non-null  object \n",
      " 18  Lattitude      13580 non-null  float64\n",
      " 19  Longtitude     13580 non-null  float64\n",
      " 20  Regionname     13580 non-null  object \n",
      " 21  Propertycount  13580 non-null  int64  \n",
      " 22  Coordinates    13580 non-null  object \n",
      "dtypes: float64(6), int64(8), object(9)\n",
      "memory usage: 2.4+ MB\n"
     ]
    }
   ],
   "source": [
    "# Задание 6.6\n",
    "# Сколько столбцов после преобразования типов имеет целочисленный тип данных?\n",
    "melb_data['Car'] = melb_data['Car'].astype('int64')\n",
    "melb_data['Bedroom'] = melb_data['Bedroom'].astype('int64')\n",
    "melb_data['Bathroom'] = melb_data['Bathroom'].astype('int64')\n",
    "melb_data['Propertycount'] = melb_data['Propertycount'].astype('int64')\n",
    "melb_data['YearBuilt'] = melb_data['YearBuilt'].astype('int64')\n",
    "melb_data.info()"
   ]
  },
  {
   "cell_type": "markdown",
   "metadata": {},
   "source": [
    "### Задание 6.7<br>\n",
    "1/1 point (graded)<br>\n",
    "Выберите верные утверждения в отношении таблицы `melb_data`:<br>\n",
    "**A** Среднее и медианное значения цены дома в таблице отличаются более чем в 10 раз<br>\n",
    "**B** Половина проданных зданий находится на расстоянии от 6.1 до 13 километров от центра города<br>\n",
    "**C** Средняя площадь здания составляет более 180 квадратных метров<br>\n",
    "**D** В данных есть как минимум одно жилое помещение, которое находится ровно в той точке, которая считается центром Мельбурна **верно**<br>\n",
    "\n",
    "**Ответ** <br>\n",
    "Верно:<br>\n",
    "**B** Квартиль уровня 0.25 столбца *Distance* равен 6.1 км, квартиль уровня 0.75 того же столбца равен 13 км.<br>\n",
    "**D** Минимальное расстояние (столбец *Distance*) от центра города равно 0. Это значит, что на карте есть как минимум одна точка, которая совпадает с точкой, обозначенной как центр города.<br>\n"
   ]
  },
  {
   "cell_type": "code",
   "execution_count": 9,
   "metadata": {},
   "outputs": [
    {
     "data": {
      "text/html": [
       "<div>\n",
       "<style scoped>\n",
       "    .dataframe tbody tr th:only-of-type {\n",
       "        vertical-align: middle;\n",
       "    }\n",
       "\n",
       "    .dataframe tbody tr th {\n",
       "        vertical-align: top;\n",
       "    }\n",
       "\n",
       "    .dataframe thead th {\n",
       "        text-align: right;\n",
       "    }\n",
       "</style>\n",
       "<table border=\"1\" class=\"dataframe\">\n",
       "  <thead>\n",
       "    <tr style=\"text-align: right;\">\n",
       "      <th></th>\n",
       "      <th>Price</th>\n",
       "      <th>Distance</th>\n",
       "      <th>BuildingArea</th>\n",
       "    </tr>\n",
       "  </thead>\n",
       "  <tbody>\n",
       "    <tr>\n",
       "      <th>count</th>\n",
       "      <td>1.358000e+04</td>\n",
       "      <td>13580.000000</td>\n",
       "      <td>13580.000000</td>\n",
       "    </tr>\n",
       "    <tr>\n",
       "      <th>mean</th>\n",
       "      <td>1.075684e+06</td>\n",
       "      <td>10.137776</td>\n",
       "      <td>139.633972</td>\n",
       "    </tr>\n",
       "    <tr>\n",
       "      <th>std</th>\n",
       "      <td>6.393107e+05</td>\n",
       "      <td>5.868725</td>\n",
       "      <td>392.217403</td>\n",
       "    </tr>\n",
       "    <tr>\n",
       "      <th>min</th>\n",
       "      <td>8.500000e+04</td>\n",
       "      <td>0.000000</td>\n",
       "      <td>0.000000</td>\n",
       "    </tr>\n",
       "    <tr>\n",
       "      <th>25%</th>\n",
       "      <td>6.500000e+05</td>\n",
       "      <td>6.100000</td>\n",
       "      <td>122.000000</td>\n",
       "    </tr>\n",
       "    <tr>\n",
       "      <th>50%</th>\n",
       "      <td>9.030000e+05</td>\n",
       "      <td>9.200000</td>\n",
       "      <td>126.000000</td>\n",
       "    </tr>\n",
       "    <tr>\n",
       "      <th>75%</th>\n",
       "      <td>1.330000e+06</td>\n",
       "      <td>13.000000</td>\n",
       "      <td>129.940000</td>\n",
       "    </tr>\n",
       "    <tr>\n",
       "      <th>max</th>\n",
       "      <td>9.000000e+06</td>\n",
       "      <td>48.100000</td>\n",
       "      <td>44515.000000</td>\n",
       "    </tr>\n",
       "  </tbody>\n",
       "</table>\n",
       "</div>"
      ],
      "text/plain": [
       "              Price      Distance  BuildingArea\n",
       "count  1.358000e+04  13580.000000  13580.000000\n",
       "mean   1.075684e+06     10.137776    139.633972\n",
       "std    6.393107e+05      5.868725    392.217403\n",
       "min    8.500000e+04      0.000000      0.000000\n",
       "25%    6.500000e+05      6.100000    122.000000\n",
       "50%    9.030000e+05      9.200000    126.000000\n",
       "75%    1.330000e+06     13.000000    129.940000\n",
       "max    9.000000e+06     48.100000  44515.000000"
      ]
     },
     "execution_count": 9,
     "metadata": {},
     "output_type": "execute_result"
    }
   ],
   "source": [
    "# Решение к 6.7\n",
    "melb_data.describe().loc[:,['Price', 'Distance', 'BuildingArea']]"
   ]
  },
  {
   "cell_type": "markdown",
   "metadata": {},
   "source": [
    "### Задание 6.8<br>\n",
    "1/1 point (graded)<br>\n",
    "Выберите верные утверждения в отношении таблицы `melb_data`:<br>\n",
    "- **A** Наименьшее число объектов расположено в районе *Southern Metropolitan*<br>\n",
    "- **B** Мельбурн и его пригороды разделены как минимум на восемь районов<br>\n",
    "- **C** У некоторых различных адресов в таблице совпадают географические координаты<br>\n",
    "- **D** В пригороде *Reservoir* расположено наибольшее число проданных объектов - 359\n",
    "\n",
    "**Ответ**<br>\n",
    "Верно:<br>\n",
    "**B** В столбце *Regionname* восемь уникальных значений (*unique*), что даёт право сделать вывод, что в Мельбурне и его пригородах как минимум восемь различных районов.<br>\n",
    "**C** Количество уникальных значений (*unique*) в столбце *Address* больше, чем количество уникальных значений в столбце *Coordinates*. Это значит, что некоторые различные адреса помечены одинаковыми географическими координатами.<br>\n",
    "**D** Наиболее часто встречающееся (*top*) значение в столбце *Suburb* является *Reservoir*. Частота (*freq*) его использований — 359 раз.<br>\n"
   ]
  },
  {
   "cell_type": "code",
   "execution_count": 10,
   "metadata": {},
   "outputs": [
    {
     "data": {
      "text/html": [
       "<div>\n",
       "<style scoped>\n",
       "    .dataframe tbody tr th:only-of-type {\n",
       "        vertical-align: middle;\n",
       "    }\n",
       "\n",
       "    .dataframe tbody tr th {\n",
       "        vertical-align: top;\n",
       "    }\n",
       "\n",
       "    .dataframe thead th {\n",
       "        text-align: right;\n",
       "    }\n",
       "</style>\n",
       "<table border=\"1\" class=\"dataframe\">\n",
       "  <thead>\n",
       "    <tr style=\"text-align: right;\">\n",
       "      <th></th>\n",
       "      <th>Suburb</th>\n",
       "      <th>Address</th>\n",
       "      <th>Type</th>\n",
       "      <th>Method</th>\n",
       "      <th>SellerG</th>\n",
       "      <th>Date</th>\n",
       "      <th>CouncilArea</th>\n",
       "      <th>Regionname</th>\n",
       "      <th>Coordinates</th>\n",
       "    </tr>\n",
       "  </thead>\n",
       "  <tbody>\n",
       "    <tr>\n",
       "      <th>count</th>\n",
       "      <td>13580</td>\n",
       "      <td>13580</td>\n",
       "      <td>13580</td>\n",
       "      <td>13580</td>\n",
       "      <td>13580</td>\n",
       "      <td>13580</td>\n",
       "      <td>12211</td>\n",
       "      <td>13580</td>\n",
       "      <td>13580</td>\n",
       "    </tr>\n",
       "    <tr>\n",
       "      <th>unique</th>\n",
       "      <td>314</td>\n",
       "      <td>13378</td>\n",
       "      <td>3</td>\n",
       "      <td>5</td>\n",
       "      <td>268</td>\n",
       "      <td>58</td>\n",
       "      <td>33</td>\n",
       "      <td>8</td>\n",
       "      <td>13097</td>\n",
       "    </tr>\n",
       "    <tr>\n",
       "      <th>top</th>\n",
       "      <td>Reservoir</td>\n",
       "      <td>36 Aberfeldie St</td>\n",
       "      <td>h</td>\n",
       "      <td>S</td>\n",
       "      <td>Nelson</td>\n",
       "      <td>27/05/2017</td>\n",
       "      <td>Moreland</td>\n",
       "      <td>Southern Metropolitan</td>\n",
       "      <td>-37.8361, 144.9966</td>\n",
       "    </tr>\n",
       "    <tr>\n",
       "      <th>freq</th>\n",
       "      <td>359</td>\n",
       "      <td>3</td>\n",
       "      <td>9449</td>\n",
       "      <td>9022</td>\n",
       "      <td>1565</td>\n",
       "      <td>473</td>\n",
       "      <td>1163</td>\n",
       "      <td>4695</td>\n",
       "      <td>12</td>\n",
       "    </tr>\n",
       "  </tbody>\n",
       "</table>\n",
       "</div>"
      ],
      "text/plain": [
       "           Suburb           Address   Type Method SellerG        Date  \\\n",
       "count       13580             13580  13580  13580   13580       13580   \n",
       "unique        314             13378      3      5     268          58   \n",
       "top     Reservoir  36 Aberfeldie St      h      S  Nelson  27/05/2017   \n",
       "freq          359                 3   9449   9022    1565         473   \n",
       "\n",
       "       CouncilArea             Regionname         Coordinates  \n",
       "count        12211                  13580               13580  \n",
       "unique          33                      8               13097  \n",
       "top       Moreland  Southern Metropolitan  -37.8361, 144.9966  \n",
       "freq          1163                   4695                  12  "
      ]
     },
     "execution_count": 10,
     "metadata": {},
     "output_type": "execute_result"
    }
   ],
   "source": [
    "# Решение к 6.8\n",
    "melb_data.describe(include=['object'])"
   ]
  },
  {
   "cell_type": "markdown",
   "metadata": {},
   "source": [
    "### Задание 6.9<br>\n",
    "1/1 point (graded)<br>\n",
    "Сколько процентов от общего количества домов составляют таунхаусы (тип объекта — *t*)?<br>\n",
    "\n",
    "Ответ округлите до целого числа. Не указывайте знак %.<br>\n",
    "**`8`** **верно**<br>"
   ]
  },
  {
   "cell_type": "code",
   "execution_count": 11,
   "metadata": {},
   "outputs": [
    {
     "data": {
      "text/plain": [
       "h    70.0\n",
       "u    22.0\n",
       "t     8.0\n",
       "Name: Type, dtype: float64"
      ]
     },
     "execution_count": 11,
     "metadata": {},
     "output_type": "execute_result"
    }
   ],
   "source": [
    "# Решение к 6.9\n",
    "round(melb_data['Type'].value_counts(normalize=True), 2)*100"
   ]
  },
  {
   "cell_type": "markdown",
   "metadata": {},
   "source": [
    "## Практика к Юнит 7. Статистические методы\n",
    "\n",
    "###  Задание 7.1<br>\n",
    "1/1 point (graded)<br>\n",
    "Для каких столбцов метод `std()` выполнится с ошибкой?<br>\n",
    "Отметьте все подходящие варианты ответов.<br>\n",
    "**A** *Landsize*<br>\n",
    "**B** *Price*<br>\n",
    "**C** *Date*<br>\n",
    "**D** *Type*<br>\n",
    "**Ответ**\n",
    "**Верно:**<br>\n",
    "**C** Метод `std()` вычисляет стандартное отклонение и работает только с числовыми столбцами. Данные в столбце *Date* относятся к строковому типу, следовательно, метод выдаст ошибку.<br>\n",
    "**D** Метод `std()` вычисляет стандартное отклонение и работает только с числовыми столбцами. Данные в столбце *Type* относятся к строковому типу, следовательно, метод выдаст ошибку.<br>\n",
    "\n",
    "### Задание 7.2<br>\n",
    "1/1 point (graded)<br>\n",
    "Чему равно максимальное количество домов на продажу в районе (Propertycount)?<br>\n",
    "`21650` - **верно**<br>\n",
    "\n",
    "### Задание 7.3<br>\n",
    "1/1 point (graded)<br>\n",
    "Чему равно стандартное отклонение (разброс) расстояния от центра города до объекта недвижимости?<br>\n",
    "Ответ округлите до целого числа.<br>\n",
    "`6` - **верно**\n",
    "\n",
    "### Задание 7.4<br>\n",
    "1/1 point (graded)<br>\n",
    "Чему равно отклонение (в процентах) медианного значения площади здания от его среднего значения?<br>\n",
    "Ответ округлите до целого числа. Не указывайте знак %.<br>\n",
    "`10` - **верно**<br>\n",
    "\n",
    "### Задание 7.5<br>\n",
    "1/1 point (graded)<br>\n",
    "Задан ряд чисел `[1, 2, 4, 2, 3, 2, 1, 5, 6]`. Чему равна *мода* в данном ряду?<br>\n",
    "`2` - *верно*<br>\n",
    "    *Подсказка* (1 из 1): *Мода* — наиболее часто встречающееся значение в ряду.<br>\n",
    "\n",
    "### Задание 7.6<br>\n",
    "1/1 point (graded)<br>\n",
    "Сколько спален чаще всего встречается в домах в Мельбурне?<br>\n",
    "`3` - **верно**"
   ]
  },
  {
   "cell_type": "code",
   "execution_count": 31,
   "metadata": {},
   "outputs": [
    {
     "name": "stdout",
     "output_type": "stream",
     "text": [
      "10\n"
     ]
    },
    {
     "data": {
      "text/plain": [
       "0    3\n",
       "Name: Bedroom, dtype: int64"
      ]
     },
     "execution_count": 31,
     "metadata": {},
     "output_type": "execute_result"
    }
   ],
   "source": [
    "# Решение к заданию 7.2\n",
    "#print(melb_data['Propertycount'].max())\n",
    "\n",
    "# Решение к заданию 7.3\n",
    "#round(melb_data['Distance'].std(), 0)\n",
    "\n",
    "# Решение к заданию 7.4\n",
    "median_BA = melb_data['BuildingArea'].median()\n",
    "mean_BA = melb_data['BuildingArea'].mean()\n",
    "print(round((abs(median_BA - mean_BA)/mean_BA)*100))\n",
    "\n",
    "# Решение к заданию 7.6\n",
    "melb_data['Bedroom'].mode()"
   ]
  },
  {
   "cell_type": "markdown",
   "metadata": {},
   "source": [
    "## Практика к Юнит 8. Фильтрация данный в DataFrame.<br>\n",
    "\n",
    "### Задание 8.1<br>\n",
    "1/1 point (graded)<br>\n",
    "У скольких объектов недвижимости из таблицы `melb_data` отсутствуют ванные комнаты?<br>\n",
    "`34` - **верно**<br>\n",
    "\n",
    "### Задание 8.2<br>\n",
    "1/1 point (graded)<br>\n",
    "Сколько в таблице melb_data объектов недвижимости, которые были проданы риелторской компанией *Nelson* и стоимость которых составила больше 3 миллионов?<br>\n",
    "`5` - **верно**<br>\n",
    "\n",
    "### Задание 8.3<br>\n",
    "1/1 point (graded)<br>\n",
    "Какова минимальная стоимость участка без здания (площадь здания равна 0) в таблице `melb_data`?<br>\n",
    "`412500` - **верно**<br>\n",
    "\n",
    "### Задание 8.4<br>\n",
    "1/1 point (graded)<br>\n",
    "Какова средняя цена объектов недвижимости в таблице `melb_data` с ценой менее одного миллиона, в которых либо количество комнат больше пяти, либо здание моложе 2015 года?<br>\n",
    "Округлите ответ до целого числа.<br>\n",
    "`769239` - **верно**<br>\n",
    "\n",
    "### Задание 8.5<br>\n",
    "1/1 point (graded)<br>\n",
    "В каком районе Мельбурна чаще всего продаются виллы и коттеджи (тип здания — *h*) с ценой меньше трёх миллионов?<br>\n",
    "*Northern Metropolitan* - **верно**<br>\n",
    "*Southern Metropolitan*<br>\n",
    "*Eastern Victoria*<br>\n",
    "*Northern Victoria*<br>"
   ]
  },
  {
   "cell_type": "code",
   "execution_count": 60,
   "metadata": {},
   "outputs": [
    {
     "data": {
      "text/plain": [
       "0    Northern Metropolitan\n",
       "Name: Regionname, dtype: object"
      ]
     },
     "execution_count": 60,
     "metadata": {},
     "output_type": "execute_result"
    }
   ],
   "source": [
    "# Решение к 8.1\n",
    "#melb_data[melb_data['Bathroom'] == 0].shape[0]\n",
    "# Решение к 8.2\n",
    "#melb_data[(melb_data['SellerG'] == \"Nelson\") & (melb_data['Price'] > 3000000)].shape[0]\n",
    "# Решение к 8.3\n",
    "#melb_data[melb_data['BuildingArea'] == 0]['Price'].min()\n",
    "# Решение к 8.4 vs1\n",
    "#round(melb_data[((melb_data['Rooms'] > 5) | (melb_data['YearBuilt'] > 2015)) & (melb_data['Price'] < 1000000)]['Price'].mean())\n",
    "# Решение к 8.4 vs2\n",
    "#md_room = (melb_data['Rooms'] > 5)\n",
    "#md_yb = (melb_data['YearBuilt'] > 2015)\n",
    "#md_price = (melb_data['Price'] < 1000000)\n",
    "#round(melb_data[(md_room | md_yb) & md_price]['Price'].mean())\n",
    "# Решение к 8.5\n",
    "md_type_h = (melb_data['Type'] == 'h')\n",
    "md_price_3 = (melb_data['Price'] < 3000000)\n",
    "melb_data[md_type_h & md_price_3]['Regionname'].mode()"
   ]
  },
  {
   "cell_type": "markdown",
   "metadata": {},
   "source": [
    "## Юнит 9. Закрепление знаний<br>\n",
    "Настало время закрепить свои знания финальным заданием.<br>\n",
    "В его решении вам поможет скринкаст, в котором мы собрали самые важные моменты модуля ↓<br>\n",
    "\n",
    "Далее вам предстоит проанализировать данные о результатах экзаменов по математике, чтению и письму среди студентов некоторого учебного заведения.<br>\n",
    "\n",
    "Задачи такого плана очень часто встречаются на технических собеседованиях, где проверяют навыки владения библиотекой *Pandas*.<br>\n",
    "\n",
    "Скачать датасет в формате *csv* можно [здесь](https://lms.skillfactory.ru/assets/courseware/v1/8a7b3b3f18edf7a3772760221c97139b/asset-v1:SkillFactory+DSPR-2.0+14JULY2021+type@asset+block/students_performance.zip) (*csv*-файл находится в *zip*-архиве — распакуйте архив, прежде чем продолжать работу!)\n"
   ]
  },
  {
   "cell_type": "markdown",
   "metadata": {},
   "source": [
    "Информация о столбцах таблицы:"
   ]
  },
  {
   "cell_type": "code",
   "execution_count": 63,
   "metadata": {},
   "outputs": [
    {
     "data": {
      "text/html": [
       "<div>\n",
       "<style scoped>\n",
       "    .dataframe tbody tr th:only-of-type {\n",
       "        vertical-align: middle;\n",
       "    }\n",
       "\n",
       "    .dataframe tbody tr th {\n",
       "        vertical-align: top;\n",
       "    }\n",
       "\n",
       "    .dataframe thead th {\n",
       "        text-align: right;\n",
       "    }\n",
       "</style>\n",
       "<table border=\"1\" class=\"dataframe\">\n",
       "  <thead>\n",
       "    <tr style=\"text-align: right;\">\n",
       "      <th></th>\n",
       "      <th>gender</th>\n",
       "      <th>race/ethnicity</th>\n",
       "      <th>parental level of education</th>\n",
       "      <th>lunch</th>\n",
       "      <th>test preparation course</th>\n",
       "      <th>math score</th>\n",
       "      <th>reading score</th>\n",
       "      <th>writing score</th>\n",
       "    </tr>\n",
       "  </thead>\n",
       "  <tbody>\n",
       "    <tr>\n",
       "      <th>0</th>\n",
       "      <td>female</td>\n",
       "      <td>group B</td>\n",
       "      <td>bachelor's degree</td>\n",
       "      <td>standard</td>\n",
       "      <td>none</td>\n",
       "      <td>72</td>\n",
       "      <td>72</td>\n",
       "      <td>74</td>\n",
       "    </tr>\n",
       "    <tr>\n",
       "      <th>1</th>\n",
       "      <td>female</td>\n",
       "      <td>group C</td>\n",
       "      <td>some college</td>\n",
       "      <td>standard</td>\n",
       "      <td>completed</td>\n",
       "      <td>69</td>\n",
       "      <td>90</td>\n",
       "      <td>88</td>\n",
       "    </tr>\n",
       "    <tr>\n",
       "      <th>2</th>\n",
       "      <td>female</td>\n",
       "      <td>group B</td>\n",
       "      <td>master's degree</td>\n",
       "      <td>standard</td>\n",
       "      <td>none</td>\n",
       "      <td>90</td>\n",
       "      <td>95</td>\n",
       "      <td>93</td>\n",
       "    </tr>\n",
       "    <tr>\n",
       "      <th>3</th>\n",
       "      <td>male</td>\n",
       "      <td>group A</td>\n",
       "      <td>associate's degree</td>\n",
       "      <td>free/reduced</td>\n",
       "      <td>none</td>\n",
       "      <td>47</td>\n",
       "      <td>57</td>\n",
       "      <td>44</td>\n",
       "    </tr>\n",
       "    <tr>\n",
       "      <th>4</th>\n",
       "      <td>male</td>\n",
       "      <td>group C</td>\n",
       "      <td>some college</td>\n",
       "      <td>standard</td>\n",
       "      <td>none</td>\n",
       "      <td>76</td>\n",
       "      <td>78</td>\n",
       "      <td>75</td>\n",
       "    </tr>\n",
       "  </tbody>\n",
       "</table>\n",
       "</div>"
      ],
      "text/plain": [
       "   gender race/ethnicity parental level of education         lunch  \\\n",
       "0  female        group B           bachelor's degree      standard   \n",
       "1  female        group C                some college      standard   \n",
       "2  female        group B             master's degree      standard   \n",
       "3    male        group A          associate's degree  free/reduced   \n",
       "4    male        group C                some college      standard   \n",
       "\n",
       "  test preparation course  math score  reading score  writing score  \n",
       "0                    none          72             72             74  \n",
       "1               completed          69             90             88  \n",
       "2                    none          90             95             93  \n",
       "3                    none          47             57             44  \n",
       "4                    none          76             78             75  "
      ]
     },
     "execution_count": 63,
     "metadata": {},
     "output_type": "execute_result"
    }
   ],
   "source": [
    "import pandas as pd\n",
    "student_data = pd.read_csv('data/students_performance.csv', sep = ',')\n",
    "student_data.head()"
   ]
  },
  {
   "cell_type": "markdown",
   "metadata": {},
   "source": [
    "- *gender* — пол;\n",
    "- *race/ethnicity* — раса/этническая принадлежность;\n",
    "- *parental level of education* — уровень образования родителей;\n",
    "- *lunch* — какие обеды получал студент во время обучения (*standard* — платный, *free/reduced* — бесплатный);\n",
    "- *test preparation course* — посещал ли студент курсы подготовки к экзаменам (*none* — не посещал, *completed* — посещал);\n",
    "- *math score, reading score, writing score* — баллы по математике, чтению и письму по сто балльной шкале.\n",
    "\n",
    "Вам необходимо прочитать эти данные в *DataFrame* с именем `student_data` и ответить на следующие вопросы ↓"
   ]
  },
  {
   "cell_type": "code",
   "execution_count": 125,
   "metadata": {},
   "outputs": [
    {
     "data": {
      "text/plain": [
       "some college          23.0\n",
       "associate's degree    22.0\n",
       "high school           20.0\n",
       "some high school      18.0\n",
       "bachelor's degree     12.0\n",
       "master's degree        6.0\n",
       "Name: parental level of education, dtype: float64"
      ]
     },
     "execution_count": 125,
     "metadata": {},
     "output_type": "execute_result"
    }
   ],
   "source": [
    "# 9.1\n",
    "#student_data.shape\n",
    "# 9.2\n",
    "#display(student_data.loc[155, 'writing score'])\n",
    "# 9.3\n",
    "#student_data.info() # var 1\n",
    "#display(student_data[:].count()) # var 2\n",
    "# 9.4\n",
    "#student_data.info()\n",
    "# 9.5\n",
    "#student_data.info()\n",
    "# 9.6\n",
    "#round(student_data['math score'].mean())\n",
    "# 9.7\n",
    "#student_data['race/ethnicity'].mode()\n",
    "# 9.8\n",
    "#round(student_data[\n",
    " #   student_data['test preparation course'] == 'completed'\n",
    " #   ]['reading score'].mean())\n",
    "# 9.9\n",
    "#student_data[student_data['math score'] == 0]['math score'].count()\n",
    "# 9.10\n",
    "#sd_l_st = (student_data['lunch'] == 'standard')\n",
    "#sd_l_fr = (student_data['lunch'] == 'free/reduced')\n",
    "#display(student_data[sd_l_st]['math score'].mean())\n",
    "#display(student_data[sd_l_fr]['math score'].mean())\n",
    "# 9.11\n",
    "#round(student_data['parental level of education'].value_counts(normalize=True)*100)\n",
    "# 9.12\n",
    "#sd_a = (student_data['race/ethnicity'] == 'group A')\n",
    "#sd_c = (student_data['race/ethnicity'] == 'group C')\n",
    "#round((student_data[sd_a]['writing score'].median()-student_data[sd_c]['writing score'].mean()))"
   ]
  },
  {
   "cell_type": "markdown",
   "metadata": {},
   "source": [
    "### Задание 9.1<br>\n",
    "1/1 point (graded)<br>\n",
    "Данные о скольких студентах содержатся в таблице?<br>\n",
    "`1000` - **верно**<br>\n",
    "\n",
    "### Задание 9.2<br>\n",
    "1/1 point (graded)<br>\n",
    "Каков балл по письму у студента под индексом 155?<br>\n",
    "`88` - **верно**<br>\n",
    "\n",
    "### Задание 9.3<br>\n",
    "1/1 point (graded)<br>\n",
    "Сколько суммарно пропущенных значений в таблице?<br>\n",
    "`0` -**верно**<br>\n",
    "\n",
    "### Задание 9.4<br>\n",
    "1/1 point (graded)<br>\n",
    "Сколько столбцов в таблице имеет тип данных object?<br>\n",
    "`5` - **верно**<br>\n",
    "\n",
    "### Задание 9.5<br>\n",
    "1/1 point (graded)<br>\n",
    "Какой объём памяти (в килобайтах) занимает таблица?<br>\n",
    "Округлите ответ до целого числа.<br>\n",
    "`63` - **верно**<br>\n",
    "\n",
    "### Задание 9.6<br>\n",
    "1/1 point (graded)<br>\n",
    "Каков у студентов средний балл по математике?<br>\n",
    "Округлите ответ до целого числа.<br>\n",
    "`66 ` - **верно**<br>\n",
    "\n",
    "### Задание 9.7<br>\n",
    "1/1 point (graded)<br>\n",
    "Какая расовая группа является самой крупной в учебном заведении?<br>\n",
    "В качестве ответа введите идентификатор группы (A, B, C, D, F).<br>\n",
    "`C` - **верно**<br>\n",
    "\n",
    "### Задание 9.8<br>\n",
    "1/1 point (graded)<br>\n",
    "Каков средний балл по чтению у студентов, которые посещали курсы подготовки к экзаменам?<br>\n",
    "Округлите ответ до целого числа.<br>\n",
    "`74` - **верно**<br>\n",
    "\n",
    "### Задание 9.9<br>\n",
    "1/1 point (graded)<br>\n",
    "Сколько студентов получили 0 баллов по математике?<br>\n",
    "`1` - **верно**<br>\n",
    "\n",
    "### Задание 9.10<br>\n",
    "1/1 point (graded)<br>\n",
    "Проверьте гипотезу: у студентов с оплачиваемым питанием средний балл по математике выше, чем у студентов с льготным питанием.<br>\n",
    "В качестве ответа напишите наибольший средний балл по математике среди этих групп студентов.<br>\n",
    "Округлите ответ до целого числа.<br>\n",
    "`70` - **верно**<br>\n",
    "\n",
    "### Задание 9.11<br>\n",
    "1/1 point (graded)<br>\n",
    "Каков процент студентов, родители которых имеют высшее образование уровня бакалавриата (bachelor's degree)?<br>\n",
    "Округлите ответ до целого числа.<br>\n",
    "Не указывайте знак %.<br>\n",
    "`12` - **верно**<br>\n",
    "\n",
    "### Задание 9.12<br>\n",
    "1/1 point (graded)<br>\n",
    "Насколько медианный балл по письму у студентов в расовой группе А отличается от среднего балла по письму у студентов в расовой группе C?<br>\n",
    "Округлите ответ до целого и запишите модуль этого числа.<br>\n",
    "`6` - **верно**<br>\n"
   ]
  }
 ],
 "metadata": {
  "interpreter": {
   "hash": "c501b42bf67913935b33f8922ebd86a3d7ed4bcc5fff590a8facc256ecec7664"
  },
  "kernelspec": {
   "display_name": "Python 3.9.10 64-bit",
   "language": "python",
   "name": "python3"
  },
  "language_info": {
   "codemirror_mode": {
    "name": "ipython",
    "version": 3
   },
   "file_extension": ".py",
   "mimetype": "text/x-python",
   "name": "python",
   "nbconvert_exporter": "python",
   "pygments_lexer": "ipython3",
   "version": "3.9.10"
  },
  "orig_nbformat": 4
 },
 "nbformat": 4,
 "nbformat_minor": 2
}

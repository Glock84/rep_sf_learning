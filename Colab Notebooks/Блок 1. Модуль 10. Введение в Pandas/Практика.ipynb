{
 "cells": [
  {
   "cell_type": "markdown",
   "metadata": {},
   "source": [
    "# Практика к Юнит 2. Pandas.Series"
   ]
  },
  {
   "cell_type": "markdown",
   "metadata": {},
   "source": [
    "# Задание 2.1\n",
    "1/1 point (graded)<br>\n",
    "Какой параметр используется для того, чтобы задать ассоциативные метки в Series?<br>\n",
    "columns<br>\n",
    "index *верно*<br>\n",
    "dtype<br>\n",
    "placemarks<br>\n"
   ]
  },
  {
   "cell_type": "markdown",
   "metadata": {},
   "source": [
    "# Задание 2.2<br>\n",
    "1/1 point (graded)<br>\n",
    "Какие из нижеперечисленных вариантов кода создают Series, представленный на картинке ниже?<br>\n",
    "A<br>\n",
    "pd.Series([\"Апельсин\", \"Киви\", \"Мандарин\", \"Яблоко\"], [\"а\", \"к\", \"м\", \"я\"])<br>\n",
    "B<br>\n",
    "pd.Series(data=[\"Апельсин\", \"Киви\", \"Мандарин\", \"Яблоко\"], index = [\"а\", \"к\", \"м\", \"я\"], name = \"fruits\")<br>\n",
    "C<br>\n",
    "pd.Series({'а': \"Апельсин\", 'к': 'Киви', 'м': 'Мандарин', 'я': 'Яблоко'}, name='fruits')<br>\n",
    "D<br>\n",
    "pd.Series([\"Апельсин\", \"Киви\", \"Мандарин\", \"Яблоко\"], name='fruits')<br>\n",
    "**Ответ\n",
    "Верно:\n",
    "B Верно.\n",
    "C Верно.**\n"
   ]
  },
  {
   "cell_type": "markdown",
   "metadata": {},
   "source": [
    "# Задание 2.3<br>\n",
    "1/1 point (graded)\n",
    "Задан Series <br>\n",
    "        <code>my_series = pd.Series(data=[5, 6, 7, 8, 9, 10], index=['a', 'b', 'c', 'd', 'e', 'f']).</code><br>\n",
    "Какими из нижеперечисленных способов можно достать из него числа 6, 7 и 9?<br>\n",
    "Отметьте все подходящие варианты ответов.<br>\n",
    "A<br>\n",
    "my_series[['b', 'c', 'e']]<br>\n",
    "B<br>\n",
    "my_series.iloc[1:5]<br>\n",
    "C<br>\n",
    "my_series.loc[['a', 'b', 'd']]<br>\n",
    "D<br>\n",
    "my_series.iloc[[1, 2, 4]]<br>\n",
    "**Ответ\n",
    "Верно:\n",
    "A Элементы 6, 7 и 9 располагаются по меткам (индексам) 'b', 'c' и 'e'. Их можно получить с помощью loc, передав в него список с этими метками.\n",
    "D Элементы 6, 7 и 9 располагаются по меткам (индексам) 'b', 'c' и 'e'. Их можно получить с помощью iloc, передав в него список с соответствующими порядковыми номерами.**\n"
   ]
  },
  {
   "cell_type": "markdown",
   "metadata": {},
   "source": [
    "# Задание 2.4<br>\n",
    "В аптеку поступают партии лекарств. Их названия находятся в списке *names*, количество единиц товара находится в списке *counts*.<br>\n",
    "Например:<br>\n",
    "<code>names=['chlorhexidine', 'cyntomycin', 'afobazol']<br>\n",
    "counts=[15, 18, 7]<br></code>\n",
    "Напишите функцию *create_medications(names, counts)*, создающую Series *medications*, индексами которого являются названия лекарств *names*, а значениями — их количество в партии *counts*.<br>\n",
    "Также напишите функцию *get_percent(medications, name)*, которая возвращает долю товара с именем *name* от общего количества товаров в партии в процентах.<br>"
   ]
  },
  {
   "cell_type": "code",
   "execution_count": 92,
   "metadata": {},
   "outputs": [
    {
     "name": "stdout",
     "output_type": "stream",
     "text": [
      "37.5\n"
     ]
    }
   ],
   "source": [
    "import pandas as pd\n",
    "\n",
    "def create_medications(names, counts):\n",
    "    \"\"\"\n",
    "    Напишите функцию create_mediactions(names, counts), которая  создает Series medications,\n",
    "    индексами которой являются названия лекарств names, а значениями - их количество в поставке counts\n",
    "    \"\"\"\n",
    "    res = pd.Series(counts, names)\n",
    "    return res\n",
    "\n",
    "def get_percent(medications, name):\n",
    "    \"\"\"\n",
    "    А также напишите функцию get_percent(medications, name), которая возвращает долю количества товара\n",
    "    с именем name от общего количества товаров в поставке в процентах.\n",
    "    \"\"\"\n",
    "    sum_per = (sum(medications.iloc[:]))\n",
    "    med_per = (medications.loc[name])/sum_per*100\n",
    "    return med_per\n",
    "    \n",
    "if __name__ == '__main__':\n",
    "    names=['chlorhexidine', 'cyntomycin', 'afobazol']\n",
    "    counts=[15, 18, 7]\n",
    "    medications = create_medications(names, counts)\n",
    "    print(get_percent(medications, \"chlorhexidine\")) #37.5"
   ]
  },
  {
   "cell_type": "markdown",
   "metadata": {},
   "source": [
    "# Практика к Юнит 3. Pandas.DataFrame"
   ]
  }
 ],
 "metadata": {
  "interpreter": {
   "hash": "c501b42bf67913935b33f8922ebd86a3d7ed4bcc5fff590a8facc256ecec7664"
  },
  "kernelspec": {
   "display_name": "Python 3.9.10 64-bit",
   "language": "python",
   "name": "python3"
  },
  "language_info": {
   "codemirror_mode": {
    "name": "ipython",
    "version": 3
   },
   "file_extension": ".py",
   "mimetype": "text/x-python",
   "name": "python",
   "nbconvert_exporter": "python",
   "pygments_lexer": "ipython3",
   "version": "3.9.10"
  },
  "orig_nbformat": 4
 },
 "nbformat": 4,
 "nbformat_minor": 2
}
